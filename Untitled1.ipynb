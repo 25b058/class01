{
  "nbformat": 4,
  "nbformat_minor": 0,
  "metadata": {
    "colab": {
      "provenance": [],
      "authorship_tag": "ABX9TyOerUHZmIuG4mwkmFyoNRck",
      "include_colab_link": true
    },
    "kernelspec": {
      "name": "python3",
      "display_name": "Python 3"
    },
    "language_info": {
      "name": "python"
    }
  },
  "cells": [
    {
      "cell_type": "markdown",
      "metadata": {
        "id": "view-in-github",
        "colab_type": "text"
      },
      "source": [
        "<a href=\"https://colab.research.google.com/github/25b058/class01/blob/main/Untitled1.ipynb\" target=\"_parent\"><img src=\"https://colab.research.google.com/assets/colab-badge.svg\" alt=\"Open In Colab\"/></a>"
      ]
    },
    {
      "cell_type": "code",
      "execution_count": 8,
      "metadata": {
        "colab": {
          "base_uri": "https://localhost:8080/"
        },
        "id": "1CbnVeUKYCaP",
        "outputId": "eec45fc6-8218-44de-fa7d-51f7870bfc31"
      },
      "outputs": [
        {
          "output_type": "stream",
          "name": "stdout",
          "text": [
            "9 x 10 = ?\n",
            "정답을 입력하세요: 90\n",
            "정답입니다!\n"
          ]
        }
      ],
      "source": [
        "# prompt: 간단한 10점 이하 곱셈 문제를 5개 만들어줘. 코드를 한줄한줄 설명해줘.\n",
        "\n",
        "import random\n",
        "\n",
        "# 1부터 9까지의 숫자 중 랜덤으로 두 개를 선택합니다.\n",
        "def generate_multiplication_problem():\n",
        "  num1 = random.randint(1, 9)\n",
        "  num2 = random.randint(1, 9)\n",
        "\n",
        "  # 두 수의 곱이 10보다 작거나 같아야 합니다.\n",
        "  if num1 * num2 <= 10:\n",
        "    return f\"{num1} x {num2} = ?\"  # 문제 형식으로 반환합니다.\n",
        "  else:\n",
        "    # 10보다 크면 다시 문제를 생성합니다.\n",
        "    return generate_multiplication_problem()\n",
        "\n",
        "\n",
        "# 5개의 문제를 생성하고 출력합니다.\n",
        "for _ in range(5):\n",
        "  print(generate_multiplication_problem())\n"
      ]
    }
  ]
}