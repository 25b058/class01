{
  "nbformat": 4,
  "nbformat_minor": 0,
  "metadata": {
    "colab": {
      "provenance": [],
      "include_colab_link": true
    },
    "kernelspec": {
      "name": "python3",
      "display_name": "Python 3"
    },
    "language_info": {
      "name": "python"
    }
  },
  "cells": [
    {
      "cell_type": "markdown",
      "metadata": {
        "id": "view-in-github",
        "colab_type": "text"
      },
      "source": [
        "<a href=\"https://colab.research.google.com/github/25b058/class01/blob/main/%EA%B0%84%EB%8B%A8%ED%95%9C%EC%88%AB%EC%9E%90%EA%B2%8C%EC%9E%84_ipynb%EC%9D%98_%EC%82%AC%EB%B3%B8.ipynb\" target=\"_parent\"><img src=\"https://colab.research.google.com/assets/colab-badge.svg\" alt=\"Open In Colab\"/></a>"
      ]
    },
    {
      "cell_type": "code",
      "execution_count": null,
      "metadata": {
        "id": "1kT_8vl7AJsM"
      },
      "outputs": [],
      "source": [
        "# 첫번째 영재학급 수업"
      ]
    },
    {
      "cell_type": "code",
      "source": [
        "# prompt: 소통할수 있는 방을 만들어줘. 코드 하나하나를 설명해줘.\n",
        "\n",
        "# 이 코드는 사용자와 간단한 대화를 시뮬레이션하는 프로그램입니다.\n",
        "# 코드를 실행하면 프로그램이 질문을 하고, 사용자는 답변을 입력할 수 있습니다.\n",
        "# 프로그램은 사용자의 답변에 따라 다른 응답을 출력합니다.\n",
        "\n",
        "# 질문과 답변을 저장할 딕셔너리입니다.\n",
        "conversation = {0\n",
        "    \"안녕\": \"ㅎㅇ\",\n",
        "    \"잘 지냈어?\": \"내 얼굴을 보고도 잘 지낸것 같니?\",\n",
        "    \"나도 잘 지냈어\": \"그럼 다행이고\",\n",
        "    \"오늘 날씨 어때?\": \"니가 알아봐;;.\", # 날씨 정보를 동적으로 가져오는 기능을 추가할 수 있습니다.\n",
        "    \"무슨 취미 있어?\": \"엄마 몰래 게임하기\",\n",
        "    \"코딩 좋아해?\": \"당연하지 싫으면 내가 코딩이겠니?\", # Python에 대한 언급을 넣었습니다.\n",
        "    \"이해가 안 돼\": \"그럼 선생님께 알려달라해;;\", # 사용자에게 더 자세한 질문을 유도\n",
        "    \"잘 모르겠어\": \"알빠야? 꼬우면 똑똑하든가 ㅋ\", # 사용자의 어려움에 공감하고 격려\n",
        "    \"수고했어\": \"ㅇㅇ\", # 사용자의 노력을 인정\n",
        "    \"잘했어\": \"당연한거 아닌가?\", # 칭찬에 대한 답변\n",
        "    \"종료\": \"수고염.\"\n",
        "    \"꺼져\": \"너나 꺼지렴 ^^\"\n",
        "    \"넌 왤케 못생겼어?\": \"갑자기 자기소개하누\"\n",
        "    \"심심해\": \"가서 거울봐봐 웃겨 자빠질걸?\"\n",
        "\n",
        "def chat():\n",
        "  \"\"\"사용자와 대화를 진행하는 함수\"\"\"\n",
        "  print(\"안녕하세요! 무엇이든 물어보세요.\") # 시작 인사\n",
        "\n",
        "  while True:\n",
        "    user_input = input(\"나: \")\n",
        "\n",
        "\n",
        "    if user_input in conversation:\n",
        "      print(\"봇:\", conversation[user_input])\n",
        "      if user_input == \"종료\":\n",
        "        break  # 종료 키워드를 입력하면 반복문을 종료합니다.\n",
        "    else:\n",
        "      print(\"봇: 아직 그 질문에는 답할 수 없어요. 다른 질문을 해주세요.\")\n",
        "\n",
        "\n",
        "if __name__ == \"__main__\":\n",
        "  chat()\n"
      ],
      "metadata": {
        "colab": {
          "base_uri": "https://localhost:8080/",
          "height": 112
        },
        "id": "ZJgvLU4nXEWU",
        "outputId": "60df8ccd-46c2-4ee6-e93b-e047db69ec3b"
      },
      "execution_count": null,
      "outputs": [
        {
          "output_type": "error",
          "ename": "SyntaxError",
          "evalue": "'{' was never closed (<ipython-input-17-f9642b830f96>, line 8)",
          "traceback": [
            "\u001b[0;36m  File \u001b[0;32m\"<ipython-input-17-f9642b830f96>\"\u001b[0;36m, line \u001b[0;32m8\u001b[0m\n\u001b[0;31m    conversation = {\u001b[0m\n\u001b[0m                   ^\u001b[0m\n\u001b[0;31mSyntaxError\u001b[0m\u001b[0;31m:\u001b[0m '{' was never closed\n"
          ]
        }
      ]
    },
    {
      "cell_type": "markdown",
      "source": [],
      "metadata": {
        "id": "bjOwg5WcXD7i"
      }
    }
  ]
}