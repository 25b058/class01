{
  "nbformat": 4,
  "nbformat_minor": 0,
  "metadata": {
    "colab": {
      "provenance": [],
      "authorship_tag": "ABX9TyN5trrYJiVGt9JAmJrVoG2U",
      "include_colab_link": true
    },
    "kernelspec": {
      "name": "python3",
      "display_name": "Python 3"
    },
    "language_info": {
      "name": "python"
    }
  },
  "cells": [
    {
      "cell_type": "markdown",
      "metadata": {
        "id": "view-in-github",
        "colab_type": "text"
      },
      "source": [
        "<a href=\"https://colab.research.google.com/github/25b058/class01/blob/main/Untitled2.ipynb\" target=\"_parent\"><img src=\"https://colab.research.google.com/assets/colab-badge.svg\" alt=\"Open In Colab\"/></a>"
      ]
    },
    {
      "cell_type": "code",
      "execution_count": 1,
      "metadata": {
        "colab": {
          "base_uri": "https://localhost:8080/",
          "height": 112
        },
        "id": "m1CUsf1SOaUL",
        "outputId": "2268c0aa-1ccc-41e2-c486-dae116f39474"
      },
      "outputs": [
        {
          "output_type": "error",
          "ename": "SyntaxError",
          "evalue": "invalid syntax (<ipython-input-1-74091d26fb93>, line 1)",
          "traceback": [
            "\u001b[0;36m  File \u001b[0;32m\"<ipython-input-1-74091d26fb93>\"\u001b[0;36m, line \u001b[0;32m1\u001b[0m\n\u001b[0;31m    11단 구구단 문제를 5개 만들어줘. 코드를 하나하나 설명해줘\u001b[0m\n\u001b[0m      ^\u001b[0m\n\u001b[0;31mSyntaxError\u001b[0m\u001b[0;31m:\u001b[0m invalid syntax\n"
          ]
        }
      ],
      "source": []
    },
    {
      "cell_type": "code",
      "source": [
        "# prompt: 간단한 과일 초성퀴즈를 만들어줘. 코드를 하나한 설명해줘.\n",
        "\n",
        "import random\n",
        "\n",
        "# 과일 목록을 사전으로 정의합니다. 키는 초성, 값은 과일 이름입니다.\n",
        "fruits = {\n",
        "    \"ㅅㄱ\": \"사과\",\n",
        "    \"ㅂㄴㄴ\": \"바나나\",\n",
        "    \"ㅇㄹ\": \"오렌지\",\n",
        "    \"ㅊㄹ\": \"체리\",\n",
        "    \"ㄷㄷ\": \"딸기\"\n",
        "}\n",
        "\n",
        "# 퀴즈를 위한 함수를 정의합니다.\n",
        "def fruit_quiz():\n",
        "    # 과일 목록에서 랜덤하게 하나를 선택합니다.\n",
        "    question_chosung, answer = random.choice(list(fruits.items()))\n",
        "\n",
        "    # 사용자에게 초성을 보여주고 정답을 입력받습니다.\n",
        "    user_answer = input(f\"다음 초성에 해당하는 과일은 무엇일까요? {question_chosung}: \")\n",
        "\n",
        "    # 사용자의 입력과 정답을 비교합니다.\n",
        "    if user_answer == answer:\n",
        "        print(\"정답입니다!\")\n",
        "    else:\n",
        "        print(f\"틀렸습니다. 정답은 {answer}입니다.\")\n",
        "\n",
        "# 퀴즈를 실행합니다.\n",
        "fruit_quiz()\n"
      ],
      "metadata": {
        "id": "SfCxuuSIOmbe"
      },
      "execution_count": null,
      "outputs": []
    }
  ]
}